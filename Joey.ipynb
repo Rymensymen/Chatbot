{
 "cells": [
  {
   "cell_type": "markdown",
   "metadata": {},
   "source": [
    "There are million chatbots out there so what's the point of just coding another chatbot that is just like everyother bot?\n",
    "Indeed, there is none. So to make my bot original, unique and at least useful in the sense that some people find it funny I created this bot to resemble the character of Joey from friends"
   ]
  },
  {
   "cell_type": "code",
   "execution_count": 9,
   "metadata": {},
   "outputs": [],
   "source": [
    "import re \n",
    "import random"
   ]
  },
  {
   "cell_type": "markdown",
   "metadata": {},
   "source": [
    "Basic functionalities of the bot before the personality aspect is implemented\n"
   ]
  },
  {
   "cell_type": "code",
   "execution_count": 10,
   "metadata": {},
   "outputs": [],
   "source": [
    "bot_template = \"Joey Tribiani: {0}\"\n",
    "user_template = \"You : {0}\""
   ]
  },
  {
   "cell_type": "markdown",
   "metadata": {},
   "source": [
    "**Dictonary**\n"
   ]
  },
  {
   "cell_type": "code",
   "execution_count": 81,
   "metadata": {},
   "outputs": [],
   "source": [
    "rules={'[Ii] want (.*)': ['What would it mean if you got {0}',\n",
    "  '[Ww]hy do you want {0}',\n",
    "  \"[Ww]hat's stopping you from getting {0}\"],\n",
    "  '[Hh]ello':['Hey my friend!'],\n",
    "  'hey':['How you doin?'],\n",
    "   'what\\'s up?':['Happy to talk to you my friend!'],\n",
    "  'your.*name?':['It\\'s the world famous Dr.Drake Ramoray','It\\'s me Joey!','It\\'s your good friend Joey'],\n",
    "  ' .*share':['Joey doesn\\'share food!'],\n",
    "  '.*like':['What\\'s not to like?'],\n",
    "  '.eat':['I had to eat everything !!','I had to eat everything !'],\n",
    "  'joey':['Is it obvious that I am wearing 6 sweaters?',\n",
    "         'How you doin? ;)',\n",
    "         'How you doin?', \n",
    "         'Is it obvious that I am wearing six sweaters? :0'],\n",
    " 'do you remember (.*)': ['Did you think I would forget {0}',\n",
    "  \"Why haven't you been able to forget {0}\",\n",
    "  'What about {0}',                        \n",
    "  'Yes .. and?'],\n",
    " 'do you think (.*)': ['if {0}? That\\'just a moo point.', 'No chance'],\n",
    " 'if (.*)': [\"Do you really think it's likely that {0}\",\n",
    "  'Do you wish that {0}',\n",
    "  'What do you think about {0}',\n",
    "  'Really--if {0}'],\n",
    "  'Did you eat.*':['I am not even sorry','Yes, I\\'m not even sorry.'],\n",
    "    'Do you know (.*)?':['if I know {0}? I\\'m a dcotor not a mathematician'],\n",
    "   '.*bye':['You can’t just give up! Is that what a dinosaur would do?']  }\n",
    "\n",
    "\n",
    "\n"
   ]
  },
  {
   "cell_type": "code",
   "execution_count": 82,
   "metadata": {},
   "outputs": [],
   "source": [
    "def match_rule(rules, message):\n",
    "    for pattern, responses in rules.items():\n",
    "        match = re.search(pattern, message)\n",
    "        if match is not None:\n",
    "            response = random.choice(responses)\n",
    "            var = match.group(1) if '{0}' in response else None\n",
    "            return response, var\n",
    "    return \"Could you say that a bit differently?\", None"
   ]
  },
  {
   "cell_type": "code",
   "execution_count": 83,
   "metadata": {},
   "outputs": [],
   "source": [
    "# Define replace_pronouns()\n",
    "def replace_pronouns(message):\n",
    "\n",
    "    message = message.lower()\n",
    "    if 'me' in message:\n",
    "        # Replace 'me' with 'you'\n",
    "        return re.sub('me','you',message)\n",
    "    if 'my' in message:\n",
    "        # Replace 'my' with 'your'\n",
    "        return re.sub('my','your',message)\n",
    "    if 'your' in message:\n",
    "        # Replace 'your' with 'my'\n",
    "        return re.sub('your','my',message)\n",
    "    if 'you' in message:\n",
    "        # Replace 'you' with 'me'\n",
    "        return re.sub('you','me',message)\n",
    "\n",
    "    return message"
   ]
  },
  {
   "cell_type": "code",
   "execution_count": 84,
   "metadata": {},
   "outputs": [],
   "source": [
    "# Define respond()\n",
    "def respond(message):\n",
    "    # Call match_rule\n",
    "    response, phrase = match_rule(rules,message)\n",
    "    if '{0}' in response:\n",
    "        # Replace the pronouns in the phrase\n",
    "        phrase = replace_pronouns(phrase)\n",
    "        # Include the phrase in the response\n",
    "        response = response.format(phrase)\n",
    "    return response\n",
    "\n"
   ]
  },
  {
   "cell_type": "code",
   "execution_count": 87,
   "metadata": {},
   "outputs": [],
   "source": [
    "# Define a function that sends a message to the bot: send_message\n",
    "def chatbot(message):\n",
    "    # Print user_template including the user_message\n",
    "    print(user_template.format(message))\n",
    "    # Get the bot's response to the message\n",
    "    response = respond(message)\n",
    "    # Print the bot template including the bot's response.\n",
    "    print(bot_template.format(response))\n"
   ]
  },
  {
   "cell_type": "markdown",
   "metadata": {},
   "source": [
    "Test messages"
   ]
  },
  {
   "cell_type": "code",
   "execution_count": 89,
   "metadata": {},
   "outputs": [
    {
     "name": "stdout",
     "output_type": "stream",
     "text": [
      "You : hello\n",
      "Joey Tribiani: Hey my friend!\n"
     ]
    }
   ],
   "source": [
    "# Try out the chatbot\n",
    "chatbot(\"hello\")\n",
    "\n"
   ]
  },
  {
   "cell_type": "code",
   "execution_count": null,
   "metadata": {},
   "outputs": [],
   "source": []
  }
 ],
 "metadata": {
  "kernelspec": {
   "display_name": "Python 3",
   "language": "python",
   "name": "python3"
  },
  "language_info": {
   "codemirror_mode": {
    "name": "ipython",
    "version": 3
   },
   "file_extension": ".py",
   "mimetype": "text/x-python",
   "name": "python",
   "nbconvert_exporter": "python",
   "pygments_lexer": "ipython3",
   "version": "3.7.4"
  }
 },
 "nbformat": 4,
 "nbformat_minor": 2
}
